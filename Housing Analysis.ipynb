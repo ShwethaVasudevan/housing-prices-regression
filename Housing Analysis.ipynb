{
 "cells": [
  {
   "cell_type": "code",
   "execution_count": 71,
   "metadata": {},
   "outputs": [
    {
     "name": "stderr",
     "output_type": "stream",
     "text": [
      "/anaconda3/lib/python3.6/site-packages/lightgbm/__init__.py:46: UserWarning: Starting from version 2.2.1, the library file in distribution wheels for macOS is built by the Apple Clang (Xcode_9.4.1) compiler.\n",
      "This means that in case of installing LightGBM from PyPI via the ``pip install lightgbm`` command, you don't need to install the gcc compiler anymore.\n",
      "Instead of that, you need to install the OpenMP library, which is required for running LightGBM on the system with the Apple Clang compiler.\n",
      "You can install the OpenMP library by the following command: ``brew install libomp``.\n",
      "  \"You can install the OpenMP library by the following command: ``brew install libomp``.\", UserWarning)\n"
     ]
    }
   ],
   "source": [
    "# Basic packages\n",
    "import pandas as pd\n",
    "import numpy as np\n",
    "import matplotlib.pyplot as plt\n",
    "import seaborn as sns\n",
    "\n",
    "# Statistics packages\n",
    "from scipy.stats import norm, skew\n",
    "from scipy.special import boxcox1p\n",
    "import statsmodels.api as sm\n",
    "\n",
    "# sklearn packages for model creation\n",
    "from sklearn.preprocessing import StandardScaler\n",
    "from sklearn.metrics import mean_squared_error, make_scorer\n",
    "from sklearn.model_selection import cross_val_score, train_test_split, GridSearchCV\n",
    "from sklearn.linear_model import LinearRegression, RidgeCV, LassoCV, ElasticNetCV\n",
    "import xgboost as xgb\n",
    "import lightgbm as lgb"
   ]
  },
  {
   "cell_type": "code",
   "execution_count": 2,
   "metadata": {},
   "outputs": [
    {
     "data": {
      "text/plain": [
       "(1460, 81)"
      ]
     },
     "execution_count": 2,
     "metadata": {},
     "output_type": "execute_result"
    }
   ],
   "source": [
    "# Import train and test data from .csv\n",
    "\n",
    "train = pd.read_csv('train.csv')\n",
    "test = pd.read_csv('test.csv')\n",
    "train.shape"
   ]
  },
  {
   "cell_type": "code",
   "execution_count": 3,
   "metadata": {},
   "outputs": [
    {
     "data": {
      "text/html": [
       "<div>\n",
       "<style scoped>\n",
       "    .dataframe tbody tr th:only-of-type {\n",
       "        vertical-align: middle;\n",
       "    }\n",
       "\n",
       "    .dataframe tbody tr th {\n",
       "        vertical-align: top;\n",
       "    }\n",
       "\n",
       "    .dataframe thead th {\n",
       "        text-align: right;\n",
       "    }\n",
       "</style>\n",
       "<table border=\"1\" class=\"dataframe\">\n",
       "  <thead>\n",
       "    <tr style=\"text-align: right;\">\n",
       "      <th></th>\n",
       "      <th>MSSubClass</th>\n",
       "      <th>MSZoning</th>\n",
       "      <th>LotFrontage</th>\n",
       "      <th>LotArea</th>\n",
       "      <th>Street</th>\n",
       "      <th>Alley</th>\n",
       "      <th>LotShape</th>\n",
       "      <th>LandContour</th>\n",
       "      <th>Utilities</th>\n",
       "      <th>LotConfig</th>\n",
       "      <th>...</th>\n",
       "      <th>PoolArea</th>\n",
       "      <th>PoolQC</th>\n",
       "      <th>Fence</th>\n",
       "      <th>MiscFeature</th>\n",
       "      <th>MiscVal</th>\n",
       "      <th>MoSold</th>\n",
       "      <th>YrSold</th>\n",
       "      <th>SaleType</th>\n",
       "      <th>SaleCondition</th>\n",
       "      <th>SalePrice</th>\n",
       "    </tr>\n",
       "  </thead>\n",
       "  <tbody>\n",
       "    <tr>\n",
       "      <th>0</th>\n",
       "      <td>60</td>\n",
       "      <td>RL</td>\n",
       "      <td>65.0</td>\n",
       "      <td>8450</td>\n",
       "      <td>Pave</td>\n",
       "      <td>NaN</td>\n",
       "      <td>Reg</td>\n",
       "      <td>Lvl</td>\n",
       "      <td>AllPub</td>\n",
       "      <td>Inside</td>\n",
       "      <td>...</td>\n",
       "      <td>0</td>\n",
       "      <td>NaN</td>\n",
       "      <td>NaN</td>\n",
       "      <td>NaN</td>\n",
       "      <td>0</td>\n",
       "      <td>2</td>\n",
       "      <td>2008</td>\n",
       "      <td>WD</td>\n",
       "      <td>Normal</td>\n",
       "      <td>208500</td>\n",
       "    </tr>\n",
       "    <tr>\n",
       "      <th>1</th>\n",
       "      <td>20</td>\n",
       "      <td>RL</td>\n",
       "      <td>80.0</td>\n",
       "      <td>9600</td>\n",
       "      <td>Pave</td>\n",
       "      <td>NaN</td>\n",
       "      <td>Reg</td>\n",
       "      <td>Lvl</td>\n",
       "      <td>AllPub</td>\n",
       "      <td>FR2</td>\n",
       "      <td>...</td>\n",
       "      <td>0</td>\n",
       "      <td>NaN</td>\n",
       "      <td>NaN</td>\n",
       "      <td>NaN</td>\n",
       "      <td>0</td>\n",
       "      <td>5</td>\n",
       "      <td>2007</td>\n",
       "      <td>WD</td>\n",
       "      <td>Normal</td>\n",
       "      <td>181500</td>\n",
       "    </tr>\n",
       "    <tr>\n",
       "      <th>2</th>\n",
       "      <td>60</td>\n",
       "      <td>RL</td>\n",
       "      <td>68.0</td>\n",
       "      <td>11250</td>\n",
       "      <td>Pave</td>\n",
       "      <td>NaN</td>\n",
       "      <td>IR1</td>\n",
       "      <td>Lvl</td>\n",
       "      <td>AllPub</td>\n",
       "      <td>Inside</td>\n",
       "      <td>...</td>\n",
       "      <td>0</td>\n",
       "      <td>NaN</td>\n",
       "      <td>NaN</td>\n",
       "      <td>NaN</td>\n",
       "      <td>0</td>\n",
       "      <td>9</td>\n",
       "      <td>2008</td>\n",
       "      <td>WD</td>\n",
       "      <td>Normal</td>\n",
       "      <td>223500</td>\n",
       "    </tr>\n",
       "    <tr>\n",
       "      <th>3</th>\n",
       "      <td>70</td>\n",
       "      <td>RL</td>\n",
       "      <td>60.0</td>\n",
       "      <td>9550</td>\n",
       "      <td>Pave</td>\n",
       "      <td>NaN</td>\n",
       "      <td>IR1</td>\n",
       "      <td>Lvl</td>\n",
       "      <td>AllPub</td>\n",
       "      <td>Corner</td>\n",
       "      <td>...</td>\n",
       "      <td>0</td>\n",
       "      <td>NaN</td>\n",
       "      <td>NaN</td>\n",
       "      <td>NaN</td>\n",
       "      <td>0</td>\n",
       "      <td>2</td>\n",
       "      <td>2006</td>\n",
       "      <td>WD</td>\n",
       "      <td>Abnorml</td>\n",
       "      <td>140000</td>\n",
       "    </tr>\n",
       "    <tr>\n",
       "      <th>4</th>\n",
       "      <td>60</td>\n",
       "      <td>RL</td>\n",
       "      <td>84.0</td>\n",
       "      <td>14260</td>\n",
       "      <td>Pave</td>\n",
       "      <td>NaN</td>\n",
       "      <td>IR1</td>\n",
       "      <td>Lvl</td>\n",
       "      <td>AllPub</td>\n",
       "      <td>FR2</td>\n",
       "      <td>...</td>\n",
       "      <td>0</td>\n",
       "      <td>NaN</td>\n",
       "      <td>NaN</td>\n",
       "      <td>NaN</td>\n",
       "      <td>0</td>\n",
       "      <td>12</td>\n",
       "      <td>2008</td>\n",
       "      <td>WD</td>\n",
       "      <td>Normal</td>\n",
       "      <td>250000</td>\n",
       "    </tr>\n",
       "    <tr>\n",
       "      <th>5</th>\n",
       "      <td>50</td>\n",
       "      <td>RL</td>\n",
       "      <td>85.0</td>\n",
       "      <td>14115</td>\n",
       "      <td>Pave</td>\n",
       "      <td>NaN</td>\n",
       "      <td>IR1</td>\n",
       "      <td>Lvl</td>\n",
       "      <td>AllPub</td>\n",
       "      <td>Inside</td>\n",
       "      <td>...</td>\n",
       "      <td>0</td>\n",
       "      <td>NaN</td>\n",
       "      <td>MnPrv</td>\n",
       "      <td>Shed</td>\n",
       "      <td>700</td>\n",
       "      <td>10</td>\n",
       "      <td>2009</td>\n",
       "      <td>WD</td>\n",
       "      <td>Normal</td>\n",
       "      <td>143000</td>\n",
       "    </tr>\n",
       "    <tr>\n",
       "      <th>6</th>\n",
       "      <td>20</td>\n",
       "      <td>RL</td>\n",
       "      <td>75.0</td>\n",
       "      <td>10084</td>\n",
       "      <td>Pave</td>\n",
       "      <td>NaN</td>\n",
       "      <td>Reg</td>\n",
       "      <td>Lvl</td>\n",
       "      <td>AllPub</td>\n",
       "      <td>Inside</td>\n",
       "      <td>...</td>\n",
       "      <td>0</td>\n",
       "      <td>NaN</td>\n",
       "      <td>NaN</td>\n",
       "      <td>NaN</td>\n",
       "      <td>0</td>\n",
       "      <td>8</td>\n",
       "      <td>2007</td>\n",
       "      <td>WD</td>\n",
       "      <td>Normal</td>\n",
       "      <td>307000</td>\n",
       "    </tr>\n",
       "    <tr>\n",
       "      <th>7</th>\n",
       "      <td>60</td>\n",
       "      <td>RL</td>\n",
       "      <td>NaN</td>\n",
       "      <td>10382</td>\n",
       "      <td>Pave</td>\n",
       "      <td>NaN</td>\n",
       "      <td>IR1</td>\n",
       "      <td>Lvl</td>\n",
       "      <td>AllPub</td>\n",
       "      <td>Corner</td>\n",
       "      <td>...</td>\n",
       "      <td>0</td>\n",
       "      <td>NaN</td>\n",
       "      <td>NaN</td>\n",
       "      <td>Shed</td>\n",
       "      <td>350</td>\n",
       "      <td>11</td>\n",
       "      <td>2009</td>\n",
       "      <td>WD</td>\n",
       "      <td>Normal</td>\n",
       "      <td>200000</td>\n",
       "    </tr>\n",
       "    <tr>\n",
       "      <th>8</th>\n",
       "      <td>50</td>\n",
       "      <td>RM</td>\n",
       "      <td>51.0</td>\n",
       "      <td>6120</td>\n",
       "      <td>Pave</td>\n",
       "      <td>NaN</td>\n",
       "      <td>Reg</td>\n",
       "      <td>Lvl</td>\n",
       "      <td>AllPub</td>\n",
       "      <td>Inside</td>\n",
       "      <td>...</td>\n",
       "      <td>0</td>\n",
       "      <td>NaN</td>\n",
       "      <td>NaN</td>\n",
       "      <td>NaN</td>\n",
       "      <td>0</td>\n",
       "      <td>4</td>\n",
       "      <td>2008</td>\n",
       "      <td>WD</td>\n",
       "      <td>Abnorml</td>\n",
       "      <td>129900</td>\n",
       "    </tr>\n",
       "    <tr>\n",
       "      <th>9</th>\n",
       "      <td>190</td>\n",
       "      <td>RL</td>\n",
       "      <td>50.0</td>\n",
       "      <td>7420</td>\n",
       "      <td>Pave</td>\n",
       "      <td>NaN</td>\n",
       "      <td>Reg</td>\n",
       "      <td>Lvl</td>\n",
       "      <td>AllPub</td>\n",
       "      <td>Corner</td>\n",
       "      <td>...</td>\n",
       "      <td>0</td>\n",
       "      <td>NaN</td>\n",
       "      <td>NaN</td>\n",
       "      <td>NaN</td>\n",
       "      <td>0</td>\n",
       "      <td>1</td>\n",
       "      <td>2008</td>\n",
       "      <td>WD</td>\n",
       "      <td>Normal</td>\n",
       "      <td>118000</td>\n",
       "    </tr>\n",
       "  </tbody>\n",
       "</table>\n",
       "<p>10 rows × 80 columns</p>\n",
       "</div>"
      ],
      "text/plain": [
       "   MSSubClass MSZoning  LotFrontage  LotArea Street Alley LotShape  \\\n",
       "0          60       RL         65.0     8450   Pave   NaN      Reg   \n",
       "1          20       RL         80.0     9600   Pave   NaN      Reg   \n",
       "2          60       RL         68.0    11250   Pave   NaN      IR1   \n",
       "3          70       RL         60.0     9550   Pave   NaN      IR1   \n",
       "4          60       RL         84.0    14260   Pave   NaN      IR1   \n",
       "5          50       RL         85.0    14115   Pave   NaN      IR1   \n",
       "6          20       RL         75.0    10084   Pave   NaN      Reg   \n",
       "7          60       RL          NaN    10382   Pave   NaN      IR1   \n",
       "8          50       RM         51.0     6120   Pave   NaN      Reg   \n",
       "9         190       RL         50.0     7420   Pave   NaN      Reg   \n",
       "\n",
       "  LandContour Utilities LotConfig  ... PoolArea PoolQC  Fence MiscFeature  \\\n",
       "0         Lvl    AllPub    Inside  ...        0    NaN    NaN         NaN   \n",
       "1         Lvl    AllPub       FR2  ...        0    NaN    NaN         NaN   \n",
       "2         Lvl    AllPub    Inside  ...        0    NaN    NaN         NaN   \n",
       "3         Lvl    AllPub    Corner  ...        0    NaN    NaN         NaN   \n",
       "4         Lvl    AllPub       FR2  ...        0    NaN    NaN         NaN   \n",
       "5         Lvl    AllPub    Inside  ...        0    NaN  MnPrv        Shed   \n",
       "6         Lvl    AllPub    Inside  ...        0    NaN    NaN         NaN   \n",
       "7         Lvl    AllPub    Corner  ...        0    NaN    NaN        Shed   \n",
       "8         Lvl    AllPub    Inside  ...        0    NaN    NaN         NaN   \n",
       "9         Lvl    AllPub    Corner  ...        0    NaN    NaN         NaN   \n",
       "\n",
       "  MiscVal MoSold  YrSold  SaleType  SaleCondition  SalePrice  \n",
       "0       0      2    2008        WD         Normal     208500  \n",
       "1       0      5    2007        WD         Normal     181500  \n",
       "2       0      9    2008        WD         Normal     223500  \n",
       "3       0      2    2006        WD        Abnorml     140000  \n",
       "4       0     12    2008        WD         Normal     250000  \n",
       "5     700     10    2009        WD         Normal     143000  \n",
       "6       0      8    2007        WD         Normal     307000  \n",
       "7     350     11    2009        WD         Normal     200000  \n",
       "8       0      4    2008        WD        Abnorml     129900  \n",
       "9       0      1    2008        WD         Normal     118000  \n",
       "\n",
       "[10 rows x 80 columns]"
      ]
     },
     "execution_count": 3,
     "metadata": {},
     "output_type": "execute_result"
    }
   ],
   "source": [
    "ids = test['Id']    # Submissions file requires an Id column\n",
    "\n",
    "# Drop Id column from train and test set\n",
    "train.drop(['Id'], inplace = True, axis = 1)\n",
    "test.drop(['Id'], inplace = True, axis = 1)\n",
    "\n",
    "train.head(10)"
   ]
  },
  {
   "cell_type": "code",
   "execution_count": 4,
   "metadata": {},
   "outputs": [
    {
     "data": {
      "text/plain": [
       "LotFrontage      259\n",
       "Alley           1369\n",
       "MasVnrType         8\n",
       "MasVnrArea         8\n",
       "BsmtQual          37\n",
       "BsmtCond          37\n",
       "BsmtExposure      38\n",
       "BsmtFinType1      37\n",
       "BsmtFinType2      38\n",
       "Electrical         1\n",
       "FireplaceQu      690\n",
       "GarageType        81\n",
       "GarageYrBlt       81\n",
       "GarageFinish      81\n",
       "GarageQual        81\n",
       "GarageCond        81\n",
       "PoolQC          1453\n",
       "Fence           1179\n",
       "MiscFeature     1406\n",
       "dtype: int64"
      ]
     },
     "execution_count": 4,
     "metadata": {},
     "output_type": "execute_result"
    }
   ],
   "source": [
    "# Check for missing values in train data\n",
    "\n",
    "missing_data = train.isna().sum()\n",
    "missing_data = missing_data.drop(missing_data[missing_data == 0].index)\n",
    "missing_data"
   ]
  },
  {
   "cell_type": "code",
   "execution_count": 5,
   "metadata": {},
   "outputs": [
    {
     "data": {
      "text/plain": [
       "MSZoning           4\n",
       "LotFrontage      227\n",
       "Alley           1352\n",
       "Utilities          2\n",
       "Exterior1st        1\n",
       "Exterior2nd        1\n",
       "MasVnrType        16\n",
       "MasVnrArea        15\n",
       "BsmtQual          44\n",
       "BsmtCond          45\n",
       "BsmtExposure      44\n",
       "BsmtFinType1      42\n",
       "BsmtFinSF1         1\n",
       "BsmtFinType2      42\n",
       "BsmtFinSF2         1\n",
       "BsmtUnfSF          1\n",
       "TotalBsmtSF        1\n",
       "BsmtFullBath       2\n",
       "BsmtHalfBath       2\n",
       "KitchenQual        1\n",
       "Functional         2\n",
       "FireplaceQu      730\n",
       "GarageType        76\n",
       "GarageYrBlt       78\n",
       "GarageFinish      78\n",
       "GarageCars         1\n",
       "GarageArea         1\n",
       "GarageQual        78\n",
       "GarageCond        78\n",
       "PoolQC          1456\n",
       "Fence           1169\n",
       "MiscFeature     1408\n",
       "SaleType           1\n",
       "dtype: int64"
      ]
     },
     "execution_count": 5,
     "metadata": {},
     "output_type": "execute_result"
    }
   ],
   "source": [
    "# Check for missing values in test data\n",
    "\n",
    "missing_test = test.isna().sum()\n",
    "missing_test = missing_test.drop(missing_test[missing_test == 0].index)\n",
    "missing_test"
   ]
  },
  {
   "cell_type": "markdown",
   "metadata": {},
   "source": [
    "## Correlation of features"
   ]
  },
  {
   "cell_type": "code",
   "execution_count": 6,
   "metadata": {},
   "outputs": [
    {
     "data": {
      "text/plain": [
       "<matplotlib.axes._subplots.AxesSubplot at 0x1c1e6bd6d8>"
      ]
     },
     "execution_count": 6,
     "metadata": {},
     "output_type": "execute_result"
    },
    {
     "data": {
      "image/png": "[encoded data removed]",
      "text/plain": [
       "<Figure size 864x648 with 2 Axes>"
      ]
     },
     "metadata": {
      "needs_background": "light"
     },
     "output_type": "display_data"
    }
   ],
   "source": [
    "corr_matrix = train.corr()\n",
    "f, ax = plt.subplots(figsize = (12,9))\n",
    "sns.heatmap(corr_matrix, square = True)"
   ]
  },
  {
   "cell_type": "markdown",
   "metadata": {},
   "source": [
    "#### Observations:\n",
    "\n",
    "1. SalePrice is highly correlated with Overall Condition.\n",
    "2. Area related features like TotalBsmtSF, !stFlrSF, GrLivArea, GarageCars, GarageArea have high impact on SalePrice.\n",
    "3. GarageCars and GarageArea are highly correlated; greater the area, more the capacity.\n",
    "4. GarageYrBuilt and YearBuilt, this could be because they were mostly built in the same year.\n",
    "5. GrLivArea and TotRmsAbvGrd happen to be highly correlated too."
   ]
  },
  {
   "cell_type": "code",
   "execution_count": 7,
   "metadata": {},
   "outputs": [
    {
     "data": {
      "text/plain": [
       "OverallQual     0.790982\n",
       "GrLivArea       0.708624\n",
       "GarageCars      0.640409\n",
       "GarageArea      0.623431\n",
       "TotalBsmtSF     0.613581\n",
       "1stFlrSF        0.605852\n",
       "FullBath        0.560664\n",
       "TotRmsAbvGrd    0.533723\n",
       "YearBuilt       0.522897\n",
       "YearRemodAdd    0.507101\n",
       "Name: SalePrice, dtype: float64"
      ]
     },
     "execution_count": 7,
     "metadata": {},
     "output_type": "execute_result"
    }
   ],
   "source": [
    "sales_corr = corr_matrix['SalePrice'].sort_values(ascending = False)\n",
    "sales_corr.drop('SalePrice', axis = 0, inplace = True)\n",
    "sales_corr.head(10)"
   ]
  },
  {
   "cell_type": "markdown",
   "metadata": {},
   "source": [
    "#### Plotting  OverallQual and SalePrice"
   ]
  },
  {
   "cell_type": "code",
   "execution_count": 8,
   "metadata": {},
   "outputs": [
    {
     "data": {
      "text/plain": [
       "<matplotlib.axes._subplots.AxesSubplot at 0x1c1edfc9b0>"
      ]
     },
     "execution_count": 8,
     "metadata": {},
     "output_type": "execute_result"
    },
    {
     "data": {
      "image/png": "[encoded data removed]",
      "text/plain": [
       "<Figure size 432x288 with 1 Axes>"
      ]
     },
     "metadata": {
      "needs_background": "light"
     },
     "output_type": "display_data"
    }
   ],
   "source": [
    "train.plot.scatter(x = 'OverallQual', y = 'SalePrice', alpha = 0.4, color = '#00cec9')"
   ]
  },
  {
   "cell_type": "code",
   "execution_count": 9,
   "metadata": {},
   "outputs": [
    {
     "data": {
      "text/plain": [
       "<matplotlib.axes._subplots.AxesSubplot at 0x1c1f44cbe0>"
      ]
     },
     "execution_count": 9,
     "metadata": {},
     "output_type": "execute_result"
    },
    {
     "data": {
      "image/png": "[encoded data removed]",
      "text/plain": [
       "<Figure size 432x288 with 1 Axes>"
      ]
     },
     "metadata": {
      "needs_background": "light"
     },
     "output_type": "display_data"
    }
   ],
   "source": [
    "train.plot.scatter(x = 'GarageCars', y = 'SalePrice', alpha = 0.3, color = '#f08700')"
   ]
  },
  {
   "cell_type": "code",
   "execution_count": 10,
   "metadata": {},
   "outputs": [
    {
     "data": {
      "text/plain": [
       "<matplotlib.axes._subplots.AxesSubplot at 0x1c1f3638d0>"
      ]
     },
     "execution_count": 10,
     "metadata": {},
     "output_type": "execute_result"
    },
    {
     "data": {
      "image/png": "[encoded data removed]",
      "text/plain": [
       "<Figure size 432x288 with 1 Axes>"
      ]
     },
     "metadata": {
      "needs_background": "light"
     },
     "output_type": "display_data"
    }
   ],
   "source": [
    "train.plot.scatter(x = 'GarageArea', y = 'SalePrice', alpha = 0.4, color = '#00cec9')"
   ]
  },
  {
   "cell_type": "code",
   "execution_count": 11,
   "metadata": {},
   "outputs": [
    {
     "data": {
      "text/plain": [
       "<matplotlib.axes._subplots.AxesSubplot at 0x1c1f4c0fd0>"
      ]
     },
     "execution_count": 11,
     "metadata": {},
     "output_type": "execute_result"
    },
    {
     "data": {
      "image/png": "[encoded data removed]",
      "text/plain": [
       "<Figure size 432x288 with 1 Axes>"
      ]
     },
     "metadata": {
      "needs_background": "light"
     },
     "output_type": "display_data"
    }
   ],
   "source": [
    "train.plot.scatter(x = 'TotalBsmtSF', y = 'SalePrice', alpha = 0.3, color = '#f08700')"
   ]
  },
  {
   "cell_type": "code",
   "execution_count": 12,
   "metadata": {},
   "outputs": [
    {
     "data": {
      "text/plain": [
       "<matplotlib.axes._subplots.AxesSubplot at 0x1c1f5a3240>"
      ]
     },
     "execution_count": 12,
     "metadata": {},
     "output_type": "execute_result"
    },
    {
     "data": {
      "image/png": "[encoded data removed]",
      "text/plain": [
       "<Figure size 432x288 with 1 Axes>"
      ]
     },
     "metadata": {
      "needs_background": "light"
     },
     "output_type": "display_data"
    }
   ],
   "source": [
    "train.plot.scatter(x = '1stFlrSF', y = 'SalePrice', alpha = 0.4, color = '#00cec9')"
   ]
  },
  {
   "cell_type": "markdown",
   "metadata": {},
   "source": [
    "## Outliers"
   ]
  },
  {
   "cell_type": "code",
   "execution_count": 13,
   "metadata": {},
   "outputs": [
    {
     "data": {
      "image/png": "[encoded data removed]",
      "text/plain": [
       "<Figure size 432x288 with 1 Axes>"
      ]
     },
     "metadata": {},
     "output_type": "display_data"
    }
   ],
   "source": [
    "# Removal of outliers as stated in the Potential Pitfalls section, refer http://jse.amstat.org/v19n3/decock.pdf\n",
    "# Houses with GRLIVAREA > 4000 sq ft will be removed - 4 outliers\n",
    "\n",
    "sns.set_style('darkgrid')\n",
    "ax = sns.scatterplot(x = train['GrLivArea'], y = train['SalePrice'])\n",
    "\n",
    "train = train[train['GrLivArea'] < 4000]"
   ]
  },
  {
   "cell_type": "markdown",
   "metadata": {},
   "source": [
    "## Dealing with missing data"
   ]
  },
  {
   "cell_type": "code",
   "execution_count": 14,
   "metadata": {},
   "outputs": [
    {
     "data": {
      "image/png": "[encoded data removed]",
      "text/plain": [
       "<Figure size 432x360 with 1 Axes>"
      ]
     },
     "metadata": {},
     "output_type": "display_data"
    }
   ],
   "source": [
    "# MSZoning - Replacing NaNs with the commonly occuring value (RL)\n",
    "\n",
    "sns.set_style('white')\n",
    "plt.subplots(figsize = (6, 5))\n",
    "sns.set_color_codes('muted')\n",
    "ax = sns.barplot(x = train['MSZoning'].unique(), y = train.MSZoning.value_counts(), color = 'm', alpha = 0.8)\n",
    "ax.set(xlabel = 'MSZoning Categories', ylabel = 'Count')\n",
    "\n",
    "test.MSZoning = test.MSZoning.fillna('RL')"
   ]
  },
  {
   "cell_type": "code",
   "execution_count": 15,
   "metadata": {},
   "outputs": [],
   "source": [
    "# LotFrontage \n",
    "# Houses in the same neighbourhood would probably have similar frontage areas; replace with median\n",
    "\n",
    "train['LotFrontage'] = train.groupby(\"Neighborhood\")[\"LotFrontage\"].transform(lambda x: x.fillna(x.median()))\n",
    "test['LotFrontage'] = test.groupby(\"Neighborhood\")[\"LotFrontage\"].transform(lambda x: x.fillna(x.median()))"
   ]
  },
  {
   "cell_type": "code",
   "execution_count": 16,
   "metadata": {},
   "outputs": [
    {
     "name": "stdout",
     "output_type": "stream",
     "text": [
      "0\n",
      "0\n"
     ]
    }
   ],
   "source": [
    "# Alley - Replacing NaNs with 'None'\n",
    "\n",
    "train['Alley'] = train['Alley'].fillna('None')\n",
    "test[\"Alley\"] = test['Alley'].fillna('None')\n",
    "print(train.Alley.isna().sum())\n",
    "print(test.Alley.isna().sum())"
   ]
  },
  {
   "cell_type": "code",
   "execution_count": 17,
   "metadata": {},
   "outputs": [
    {
     "name": "stdout",
     "output_type": "stream",
     "text": [
      "AllPub    1455\n",
      "NoSeWa       1\n",
      "Name: Utilities, dtype: int64\n"
     ]
    }
   ],
   "source": [
    "# Utilities \n",
    "# Dropping column since only 1 record in train set contains 'NoSeWa' with rest as 'AllPub'\n",
    "\n",
    "print(train['Utilities'].value_counts())\n",
    "train.drop(columns = ['Utilities'], inplace = True)\n",
    "test.drop(columns = ['Utilities'], inplace = True)"
   ]
  },
  {
   "cell_type": "code",
   "execution_count": 18,
   "metadata": {},
   "outputs": [
    {
     "name": "stdout",
     "output_type": "stream",
     "text": [
      "0    VinylSd\n",
      "dtype: object\n",
      "0\n"
     ]
    }
   ],
   "source": [
    "# Exterior1st - Replacing with most common occurence\n",
    "\n",
    "print(train.Exterior1st.mode())\n",
    "test['Exterior1st'] = test.Exterior1st.fillna('VinylSd')\n",
    "print(test.Exterior1st.isna().sum())"
   ]
  },
  {
   "cell_type": "code",
   "execution_count": 19,
   "metadata": {},
   "outputs": [
    {
     "name": "stdout",
     "output_type": "stream",
     "text": [
      "0    VinylSd\n",
      "dtype: object\n",
      "0\n"
     ]
    }
   ],
   "source": [
    "# Exterior2nd - Replacing with most common occurence\n",
    "\n",
    "print(train.Exterior2nd.mode())\n",
    "test['Exterior2nd'] = test.Exterior2nd.fillna('VinylSd')\n",
    "print(test.Exterior2nd.isna().sum())"
   ]
  },
  {
   "cell_type": "code",
   "execution_count": 20,
   "metadata": {},
   "outputs": [],
   "source": [
    "# MasVnrType - Replacing NaNs with 'None'\n",
    "\n",
    "train['MasVnrType'] = train.MasVnrType.fillna('None')\n",
    "test['MasVnrType'] = test.MasVnrType.fillna('None')"
   ]
  },
  {
   "cell_type": "code",
   "execution_count": 21,
   "metadata": {},
   "outputs": [],
   "source": [
    "# MasVnrArea\n",
    "# NaN values in this column all have MasVnrType as None - Hence replacing NaN with 0.0\n",
    "\n",
    "train.MasVnrArea = train.MasVnrArea.fillna(0.0)\n",
    "test.MasVnrArea = test.MasVnrArea.fillna(0.0)"
   ]
  },
  {
   "cell_type": "code",
   "execution_count": 22,
   "metadata": {},
   "outputs": [],
   "source": [
    "# BsmtQual, BsmtCond, BsmtExposure, BsmtFinType1, BsmtFinType2\n",
    "\n",
    "columns = ['BsmtQual', 'BsmtCond', 'BsmtExposure', 'BsmtFinType1', 'BsmtFinType2']\n",
    "\n",
    "for col in columns:\n",
    "    train[col] = train[col].fillna(\"None\")\n",
    "    test[col] = test[col].fillna(\"None\")"
   ]
  },
  {
   "cell_type": "code",
   "execution_count": 23,
   "metadata": {},
   "outputs": [],
   "source": [
    "# BsmtFinSF1, BsmtFinSF2, BsmtUnfSF, TotalBsmtSF, BsmtFullBath, BsmtHalfBath\n",
    "\n",
    "columns = ['BsmtFinSF1', 'BsmtFinSF2', 'BsmtUnfSF', 'TotalBsmtSF', 'BsmtFullBath', 'BsmtHalfBath']\n",
    "\n",
    "for col in columns:\n",
    "    test[col] = test[col].fillna(0)"
   ]
  },
  {
   "cell_type": "code",
   "execution_count": 24,
   "metadata": {},
   "outputs": [
    {
     "name": "stdout",
     "output_type": "stream",
     "text": [
      "0    SBrkr\n",
      "dtype: object\n"
     ]
    }
   ],
   "source": [
    "# Electrical - Replace Nan With the commonly occuring value\n",
    "\n",
    "print(train.Electrical.mode())\n",
    "train.Electrical = train.Electrical.fillna('SBrkr')"
   ]
  },
  {
   "cell_type": "code",
   "execution_count": 25,
   "metadata": {},
   "outputs": [
    {
     "name": "stdout",
     "output_type": "stream",
     "text": [
      "0    TA\n",
      "dtype: object\n"
     ]
    }
   ],
   "source": [
    "# KitchenQual - Replace Nan with commonly occuring value\n",
    "\n",
    "print(train.KitchenQual.mode())\n",
    "test.KitchenQual = test.KitchenQual.fillna('TA')"
   ]
  },
  {
   "cell_type": "code",
   "execution_count": 26,
   "metadata": {},
   "outputs": [],
   "source": [
    "# Functional - Assuming typical 'Typ'\n",
    "\n",
    "test.Functional = test.Functional.fillna('Typ')"
   ]
  },
  {
   "cell_type": "code",
   "execution_count": 27,
   "metadata": {},
   "outputs": [],
   "source": [
    "# FireplaceQu - NaN means no Fireplace \"None\"\n",
    "\n",
    "train['FireplaceQu'] = train['FireplaceQu'].fillna('None')\n",
    "test['FireplaceQu'] = test['FireplaceQu'].fillna('None')"
   ]
  },
  {
   "cell_type": "code",
   "execution_count": 28,
   "metadata": {},
   "outputs": [],
   "source": [
    "# GarageType - NaN means no garage \"None\"\n",
    "\n",
    "train['GarageType'] = train['GarageType'].fillna('None')\n",
    "test['GarageType'] = test['GarageType'].fillna('None')"
   ]
  },
  {
   "cell_type": "code",
   "execution_count": 29,
   "metadata": {},
   "outputs": [],
   "source": [
    "# GarageYrBlt - NaN means no garage, keep year as 0\n",
    "\n",
    "train['GarageYrBlt'] = train['GarageYrBlt'].fillna(0)\n",
    "test['GarageYrBlt'] = test['GarageYrBlt'].fillna(0)"
   ]
  },
  {
   "cell_type": "code",
   "execution_count": 30,
   "metadata": {},
   "outputs": [],
   "source": [
    "# GarageFinish - NaN means no garage \"None\"\n",
    "\n",
    "train['GarageFinish'] = train['GarageFinish'].fillna(\"None\")\n",
    "test['GarageFinish'] = test['GarageFinish'].fillna(\"None\")"
   ]
  },
  {
   "cell_type": "code",
   "execution_count": 31,
   "metadata": {},
   "outputs": [],
   "source": [
    "# GarageCars, GarageArea - NaN means no garage, replace with 0.0\n",
    "\n",
    "test = test.fillna({'GarageCars':0.0, \"GarageArea\": 0.0})"
   ]
  },
  {
   "cell_type": "code",
   "execution_count": 32,
   "metadata": {},
   "outputs": [],
   "source": [
    "# GarageQual, GarageCond - NaN means no garage \"None\"\n",
    "\n",
    "for col in ['GarageQual','GarageCond']:\n",
    "    train[col] = train[col].fillna(\"None\")\n",
    "    test[col] = test[col].fillna(\"None\")"
   ]
  },
  {
   "cell_type": "code",
   "execution_count": 33,
   "metadata": {},
   "outputs": [],
   "source": [
    "# PoolQC, Fence - NaN means no Pool/Fence, \"None\"\n",
    "\n",
    "for col in ['PoolQC', 'Fence']:\n",
    "    train[col] = train[col].fillna(\"None\")\n",
    "    test[col] = test[col].fillna(\"None\")"
   ]
  },
  {
   "cell_type": "code",
   "execution_count": 34,
   "metadata": {},
   "outputs": [],
   "source": [
    "# MiscFeature\n",
    "\n",
    "train['MiscFeature'] = train['MiscFeature'].fillna('None')\n",
    "test['MiscFeature'] = test['MiscFeature'].fillna('None')"
   ]
  },
  {
   "cell_type": "code",
   "execution_count": 35,
   "metadata": {},
   "outputs": [
    {
     "name": "stdout",
     "output_type": "stream",
     "text": [
      "0    WD\n",
      "dtype: object\n"
     ]
    }
   ],
   "source": [
    "# SaleType\n",
    "\n",
    "print(train['SaleType'].mode())\n",
    "test['SaleType'].fillna('WD', inplace = True)"
   ]
  },
  {
   "cell_type": "markdown",
   "metadata": {},
   "source": [
    "## Representing some categories with ordered numbers"
   ]
  },
  {
   "cell_type": "code",
   "execution_count": 36,
   "metadata": {},
   "outputs": [],
   "source": [
    "# ExterQual, ExterCond, HeatingQC, KitchenQual\n",
    "\n",
    "exter_map = {\"Ex\": 5, \"Gd\": 4, \"TA\": 3, \"Fa\": 2, \"Po\": 1}\n",
    "for col in ['ExterQual', 'ExterCond', 'HeatingQC', 'KitchenQual']:\n",
    "    train[col] = train[col].map(exter_map).astype(int)\n",
    "    test[col] = test[col].map(exter_map).astype(int)"
   ]
  },
  {
   "cell_type": "code",
   "execution_count": 37,
   "metadata": {},
   "outputs": [],
   "source": [
    "# BsmtQual, BsmtCond, FireplaceQu, PoolQC\n",
    "\n",
    "bsmt_map = {\"Ex\": 5, \"Gd\": 4, \"TA\": 3, \"Fa\": 2, \"Po\": 1, \"None\": 0}\n",
    "\n",
    "for col in ['BsmtQual', 'BsmtCond', 'FireplaceQu', 'GarageCond', 'GarageQual', 'PoolQC']:\n",
    "    train[col] = train[col].map(bsmt_map).astype(int)\n",
    "    test[col] = test[col].map(bsmt_map).astype(int)"
   ]
  },
  {
   "cell_type": "code",
   "execution_count": 38,
   "metadata": {},
   "outputs": [],
   "source": [
    "# BsmtExposure\n",
    "\n",
    "exp_map = {'Gd': 3, 'Av': 2, 'Mn': 1, 'No': 0, 'None': 0}\n",
    "train['BsmtExposure'] = train['BsmtExposure'].map(exp_map).astype(int)\n",
    "test['BsmtExposure'] = test['BsmtExposure'].map(exp_map).astype(int)"
   ]
  },
  {
   "cell_type": "code",
   "execution_count": 39,
   "metadata": {},
   "outputs": [],
   "source": [
    "# BsmtFinType1, BsmtFinType2\n",
    "\n",
    "fintype_map = {'GLQ': 6, \"ALQ\": 5, 'BLQ': 4, 'Rec': 3, 'LwQ': 2, 'Unf': 1, 'None': 0}\n",
    "for col in ['BsmtFinType1', 'BsmtFinType2']:\n",
    "    train[col] = train[col].map(fintype_map).astype(int)\n",
    "    test[col] = test[col].map(fintype_map).astype(int)"
   ]
  },
  {
   "cell_type": "code",
   "execution_count": 40,
   "metadata": {},
   "outputs": [],
   "source": [
    "# CentralAir (Necessary...?)\n",
    "\n",
    "ca_map = {'Y': 1, 'N': 0}\n",
    "train['CentralAir'] = train.CentralAir.map(ca_map)\n",
    "test['CentralAir'] = test.CentralAir.map(ca_map)"
   ]
  },
  {
   "cell_type": "code",
   "execution_count": 41,
   "metadata": {},
   "outputs": [],
   "source": [
    "# PavedDrive\n",
    "\n",
    "pd_map = {'Y': 2, 'P': 1, 'N': 0}\n",
    "train['PavedDrive'] = train.PavedDrive.map(pd_map)\n",
    "test['PavedDrive'] = test.PavedDrive.map(pd_map)"
   ]
  },
  {
   "cell_type": "code",
   "execution_count": 42,
   "metadata": {},
   "outputs": [],
   "source": [
    "# Fence\n",
    "\n",
    "fence_map = {'GdPrv': 2, 'MnPrv': 1, 'GdWo': 2, 'MnWw': 1, 'None': 0}\n",
    "train['Fence'] = train.Fence.map(fence_map)\n",
    "test['Fence'] = test.Fence.map(fence_map)"
   ]
  },
  {
   "cell_type": "code",
   "execution_count": 43,
   "metadata": {},
   "outputs": [],
   "source": [
    "# Street, Alley\n",
    "\n",
    "street_map = {'Grvl': 2, 'Pave': 1, 'None': 0}\n",
    "for col in ['Street', 'Alley']:\n",
    "    train[col] = train[col].map(street_map)\n",
    "    test[col] = test[col].map(street_map)"
   ]
  },
  {
   "cell_type": "code",
   "execution_count": 44,
   "metadata": {},
   "outputs": [],
   "source": [
    "# LotShape\n",
    "\n",
    "lot_map = {'Reg': 4, 'IR1': 3, 'IR2': 2, 'IR3': 1}\n",
    "train['LotShape'] = train.LotShape.map(lot_map)\n",
    "test['LotShape'] = test.LotShape.map(lot_map)"
   ]
  },
  {
   "cell_type": "code",
   "execution_count": 45,
   "metadata": {},
   "outputs": [],
   "source": [
    "# LandSlope\n",
    "\n",
    "slope_map = {'Gtl': 3, 'Mod': 2, 'Sev': 1}\n",
    "train['LandSlope'] = train.LandSlope.map(slope_map)\n",
    "test['LandSlope'] = test.LandSlope.map(slope_map)"
   ]
  },
  {
   "cell_type": "code",
   "execution_count": 46,
   "metadata": {},
   "outputs": [],
   "source": [
    "# MasVnrType\n",
    "\n",
    "mason_map = {'BrkCmn': 1, 'BrkFace': 1, 'CBlock': 1, 'Stone': 1, 'None': 0}\n",
    "train['MasVnrType'] = train.MasVnrType.map(mason_map)\n",
    "test['MasVnrType'] = test.MasVnrType.map(mason_map)"
   ]
  },
  {
   "cell_type": "markdown",
   "metadata": {},
   "source": [
    "## Creating new features through modification of existing ones"
   ]
  },
  {
   "cell_type": "code",
   "execution_count": 47,
   "metadata": {},
   "outputs": [],
   "source": [
    "# OverallQC - from OverallQual and OverallCond\n",
    "\n",
    "train['OverallQC'] = (train['OverallQual'] + train['OverallCond']) / 2\n",
    "test['OverallQC'] = (test['OverallQual'] + test['OverallCond']) / 2\n",
    "\n",
    "train.drop(['OverallQual', 'OverallCond'], inplace = True, axis = 1)\n",
    "test.drop(['OverallQual', 'OverallCond'], inplace = True, axis = 1)"
   ]
  },
  {
   "cell_type": "code",
   "execution_count": 48,
   "metadata": {},
   "outputs": [],
   "source": [
    "# ExterQC - from ExterQual and ExterCond\n",
    "\n",
    "train['ExterQC'] = (train['ExterQual'] + train['ExterCond']) / 2\n",
    "test['ExterQC'] = (test['ExterQual'] + test['ExterCond']) / 2\n",
    "\n",
    "train.drop(['ExterQual', 'ExterCond'], inplace = True, axis = 1)\n",
    "test.drop(['ExterQual', 'ExterCond'], inplace = True, axis = 1)"
   ]
  },
  {
   "cell_type": "code",
   "execution_count": 49,
   "metadata": {},
   "outputs": [],
   "source": [
    "# GarageQC - from GarageQual and GarageCond\n",
    "\n",
    "train['GarageQC'] = (train['GarageQual'] + train['GarageCond']) / 2\n",
    "test['GarageQC'] = (test['GarageQual'] + test['GarageCond']) / 2\n",
    "\n",
    "train.drop(['GarageQual', 'GarageCond'], inplace = True, axis = 1)\n",
    "test.drop(['GarageQual', 'GarageCond'], inplace = True, axis = 1)"
   ]
  },
  {
   "cell_type": "code",
   "execution_count": 50,
   "metadata": {},
   "outputs": [],
   "source": [
    "# BsmtQC - from BsmtQual, BsmtCond, BsmtExposure\n",
    "\n",
    "train['BsmtQC'] = (train['BsmtQual'] + train['BsmtCond'] + train['BsmtExposure']) / 3\n",
    "test['BsmtQC'] = (test['BsmtQual'] + test['BsmtCond'] + test['BsmtExposure']) / 3\n",
    "\n",
    "train.drop(['BsmtQual', 'BsmtCond', 'BsmtExposure'], axis = 1, inplace = True)\n",
    "test.drop(['BsmtQual', 'BsmtCond', 'BsmtExposure'], axis = 1, inplace = True)"
   ]
  },
  {
   "cell_type": "code",
   "execution_count": 51,
   "metadata": {},
   "outputs": [],
   "source": [
    "# TopFloorsArea - from 1stFlrSF, 2ndFlrSF\n",
    "# TotalSFArea - from GrLivArea, TotalBsmtSF\n",
    "\n",
    "train['TopFloorsArea'] = train['1stFlrSF'] + train['2ndFlrSF']  \n",
    "train['TotalSFArea'] = train['GrLivArea'] + train['TotalBsmtSF']\n",
    "test['TopFloorsArea'] = test['1stFlrSF'] + test['2ndFlrSF']  \n",
    "test['TotalSFArea'] = test['GrLivArea'] + test['TotalBsmtSF']\n",
    "\n",
    "train.drop(['1stFlrSF', '2ndFlrSF', 'GrLivArea', 'TotalBsmtSF'], inplace = True, axis = 1)\n",
    "test.drop(['1stFlrSF', '2ndFlrSF', 'GrLivArea', 'TotalBsmtSF'], inplace = True, axis = 1)"
   ]
  },
  {
   "cell_type": "code",
   "execution_count": 52,
   "metadata": {},
   "outputs": [],
   "source": [
    "# TotBaths - Total number of bathrooms from BsmtFullBath, BsmtHalfBath, HalfBath, FullBath.\n",
    "\n",
    "train['TotBaths'] = train['BsmtFullBath'] + (0.5 * train['BsmtHalfBath']) + (0.5 * train['HalfBath']) + train['FullBath']\n",
    "test['TotBaths'] = test['BsmtFullBath'] + (0.5 * test['BsmtHalfBath']) + (0.5 * test['HalfBath']) + test['FullBath']\n",
    "\n",
    "train.drop(['BsmtFullBath', 'BsmtHalfBath', 'HalfBath', 'FullBath'], inplace = True, axis = 1)\n",
    "test.drop(['BsmtFullBath', 'BsmtHalfBath', 'HalfBath', 'FullBath'], inplace = True, axis = 1)"
   ]
  },
  {
   "cell_type": "code",
   "execution_count": 53,
   "metadata": {},
   "outputs": [],
   "source": [
    "# TotPorchSF - Total Square feet area of the porch.\n",
    "\n",
    "train['TotPorchSF'] = train['OpenPorchSF'] + train['EnclosedPorch'] + train['3SsnPorch'] + train['ScreenPorch']\n",
    "test['TotPorchSF'] = test['OpenPorchSF'] + test['EnclosedPorch'] + test['3SsnPorch'] + test['ScreenPorch']\n",
    "\n",
    "train.drop(['OpenPorchSF', 'EnclosedPorch', '3SsnPorch', 'ScreenPorch'], inplace = True, axis = 1)\n",
    "test.drop(['OpenPorchSF', 'EnclosedPorch', '3SsnPorch', 'ScreenPorch'], inplace = True, axis = 1)"
   ]
  },
  {
   "cell_type": "markdown",
   "metadata": {},
   "source": [
    "The GarageCars and GarageYrBlt columns are dropped, as explained in the observations part of the feature correlation."
   ]
  },
  {
   "cell_type": "code",
   "execution_count": 54,
   "metadata": {},
   "outputs": [],
   "source": [
    "# Dropping the GarageCars, GarageYrBuilt columns.\n",
    "\n",
    "train.drop(['GarageCars', 'GarageYrBlt'], inplace = True, axis = 1)\n",
    "test.drop(['GarageCars', 'GarageYrBlt'], inplace = True, axis = 1)"
   ]
  },
  {
   "cell_type": "markdown",
   "metadata": {},
   "source": [
    "## Tranforming highly skewed features"
   ]
  },
  {
   "cell_type": "markdown",
   "metadata": {},
   "source": [
    "#### Seperating the numerical features from the categorical ones"
   ]
  },
  {
   "cell_type": "code",
   "execution_count": 55,
   "metadata": {},
   "outputs": [],
   "source": [
    "# Converting the categorical features to Pandas Categorical type.\n",
    "# This is done to distinguish them from the numerical features that are to be transformed.\n",
    "\n",
    "columns = ['MSSubClass', 'MSZoning', 'LandContour', 'LotConfig', \n",
    "           'Neighborhood', 'Condition1', 'Condition2', 'BldgType',\n",
    "           'HouseStyle', 'YearBuilt', 'YearRemodAdd', 'RoofStyle',\n",
    "           'RoofMatl', 'Exterior1st', 'Exterior2nd', 'Foundation', \n",
    "           'Heating', 'Electrical', 'Functional', 'GarageType', \n",
    "           'GarageFinish', 'PavedDrive', 'MiscFeature', 'MoSold', \n",
    "           'YrSold', 'SaleType', 'SaleCondition']\n",
    "\n",
    "num_train = train.shape[0]\n",
    "num_test = test.shape[0]\n",
    "\n",
    "y_train = train['SalePrice'].values    # SalePrice \n",
    "train.drop(['SalePrice'], axis = 1, inplace = True)\n",
    "\n",
    "all_data = pd.concat([train, test], axis = 0).reset_index(drop = True)\n",
    "\n",
    "for col in columns:\n",
    "    all_data[col] = pd.Categorical(all_data[col])"
   ]
  },
  {
   "cell_type": "markdown",
   "metadata": {},
   "source": [
    "#### Checking the skewness levels"
   ]
  },
  {
   "cell_type": "code",
   "execution_count": 56,
   "metadata": {},
   "outputs": [
    {
     "name": "stdout",
     "output_type": "stream",
     "text": [
      "Index(['LotFrontage', 'LotArea', 'Street', 'Alley', 'LotShape', 'LandSlope',\n",
      "       'MasVnrType', 'MasVnrArea', 'BsmtFinType1', 'BsmtFinSF1',\n",
      "       'BsmtFinType2', 'BsmtFinSF2', 'BsmtUnfSF', 'HeatingQC', 'CentralAir',\n",
      "       'LowQualFinSF', 'BedroomAbvGr', 'KitchenAbvGr', 'KitchenQual',\n",
      "       'TotRmsAbvGrd', 'Fireplaces', 'FireplaceQu', 'GarageArea', 'WoodDeckSF',\n",
      "       'PoolArea', 'PoolQC', 'Fence', 'MiscVal', 'OverallQC', 'ExterQC',\n",
      "       'GarageQC', 'BsmtQC', 'TopFloorsArea', 'TotalSFArea', 'TotBaths',\n",
      "       'TotPorchSF'],\n",
      "      dtype='object')\n"
     ]
    }
   ],
   "source": [
    "# Obtaining the column containing numerical features\n",
    "\n",
    "num_features = all_data.dtypes[all_data.dtypes != 'category'].index\n",
    "print(num_features)"
   ]
  },
  {
   "cell_type": "code",
   "execution_count": 57,
   "metadata": {},
   "outputs": [],
   "source": [
    "# Skewness with magnitude 0.5 is considered to be moderate.\n",
    "# A skewness magnitude greater than 1 is considered as high.\n",
    "\n",
    "skewness = all_data[num_features].apply(lambda x: skew(x))\n",
    "skewness = skewness[abs(skewness) > 0.5]\n",
    "skewed_features = skewness.index"
   ]
  },
  {
   "cell_type": "markdown",
   "metadata": {},
   "source": [
    "#### Performing log(1+x) transformation on highly skewed features"
   ]
  },
  {
   "cell_type": "markdown",
   "metadata": {},
   "source": [
    "Log transformation works fine on both positively and negatively skewed data, another good transformation that can also be applied is the BoxCox transform."
   ]
  },
  {
   "cell_type": "code",
   "execution_count": 58,
   "metadata": {},
   "outputs": [],
   "source": [
    "all_data[skewed_features] = np.log1p(all_data[skewed_features])    "
   ]
  },
  {
   "cell_type": "markdown",
   "metadata": {},
   "source": [
    "## One hot encoding categorical features"
   ]
  },
  {
   "cell_type": "code",
   "execution_count": 59,
   "metadata": {},
   "outputs": [
    {
     "name": "stdout",
     "output_type": "stream",
     "text": [
      "(2915, 392)\n"
     ]
    },
    {
     "data": {
      "text/html": [
       "<div>\n",
       "<style scoped>\n",
       "    .dataframe tbody tr th:only-of-type {\n",
       "        vertical-align: middle;\n",
       "    }\n",
       "\n",
       "    .dataframe tbody tr th {\n",
       "        vertical-align: top;\n",
       "    }\n",
       "\n",
       "    .dataframe thead th {\n",
       "        text-align: right;\n",
       "    }\n",
       "</style>\n",
       "<table border=\"1\" class=\"dataframe\">\n",
       "  <thead>\n",
       "    <tr style=\"text-align: right;\">\n",
       "      <th></th>\n",
       "      <th>LotFrontage</th>\n",
       "      <th>LotArea</th>\n",
       "      <th>Street</th>\n",
       "      <th>Alley</th>\n",
       "      <th>LotShape</th>\n",
       "      <th>LandSlope</th>\n",
       "      <th>MasVnrType</th>\n",
       "      <th>MasVnrArea</th>\n",
       "      <th>BsmtFinType1</th>\n",
       "      <th>BsmtFinSF1</th>\n",
       "      <th>...</th>\n",
       "      <th>SaleType_ConLI</th>\n",
       "      <th>SaleType_ConLw</th>\n",
       "      <th>SaleType_New</th>\n",
       "      <th>SaleType_Oth</th>\n",
       "      <th>SaleType_WD</th>\n",
       "      <th>SaleCondition_AdjLand</th>\n",
       "      <th>SaleCondition_Alloca</th>\n",
       "      <th>SaleCondition_Family</th>\n",
       "      <th>SaleCondition_Normal</th>\n",
       "      <th>SaleCondition_Partial</th>\n",
       "    </tr>\n",
       "  </thead>\n",
       "  <tbody>\n",
       "    <tr>\n",
       "      <th>0</th>\n",
       "      <td>4.189655</td>\n",
       "      <td>9.042040</td>\n",
       "      <td>0.693147</td>\n",
       "      <td>0.0</td>\n",
       "      <td>1.609438</td>\n",
       "      <td>1.386294</td>\n",
       "      <td>1</td>\n",
       "      <td>5.283204</td>\n",
       "      <td>6</td>\n",
       "      <td>6.561031</td>\n",
       "      <td>...</td>\n",
       "      <td>0</td>\n",
       "      <td>0</td>\n",
       "      <td>0</td>\n",
       "      <td>0</td>\n",
       "      <td>1</td>\n",
       "      <td>0</td>\n",
       "      <td>0</td>\n",
       "      <td>0</td>\n",
       "      <td>1</td>\n",
       "      <td>0</td>\n",
       "    </tr>\n",
       "    <tr>\n",
       "      <th>1</th>\n",
       "      <td>4.394449</td>\n",
       "      <td>9.169623</td>\n",
       "      <td>0.693147</td>\n",
       "      <td>0.0</td>\n",
       "      <td>1.609438</td>\n",
       "      <td>1.386294</td>\n",
       "      <td>0</td>\n",
       "      <td>0.000000</td>\n",
       "      <td>5</td>\n",
       "      <td>6.886532</td>\n",
       "      <td>...</td>\n",
       "      <td>0</td>\n",
       "      <td>0</td>\n",
       "      <td>0</td>\n",
       "      <td>0</td>\n",
       "      <td>1</td>\n",
       "      <td>0</td>\n",
       "      <td>0</td>\n",
       "      <td>0</td>\n",
       "      <td>1</td>\n",
       "      <td>0</td>\n",
       "    </tr>\n",
       "    <tr>\n",
       "      <th>2</th>\n",
       "      <td>4.234107</td>\n",
       "      <td>9.328212</td>\n",
       "      <td>0.693147</td>\n",
       "      <td>0.0</td>\n",
       "      <td>1.386294</td>\n",
       "      <td>1.386294</td>\n",
       "      <td>1</td>\n",
       "      <td>5.093750</td>\n",
       "      <td>6</td>\n",
       "      <td>6.188264</td>\n",
       "      <td>...</td>\n",
       "      <td>0</td>\n",
       "      <td>0</td>\n",
       "      <td>0</td>\n",
       "      <td>0</td>\n",
       "      <td>1</td>\n",
       "      <td>0</td>\n",
       "      <td>0</td>\n",
       "      <td>0</td>\n",
       "      <td>1</td>\n",
       "      <td>0</td>\n",
       "    </tr>\n",
       "    <tr>\n",
       "      <th>3</th>\n",
       "      <td>4.110874</td>\n",
       "      <td>9.164401</td>\n",
       "      <td>0.693147</td>\n",
       "      <td>0.0</td>\n",
       "      <td>1.386294</td>\n",
       "      <td>1.386294</td>\n",
       "      <td>0</td>\n",
       "      <td>0.000000</td>\n",
       "      <td>5</td>\n",
       "      <td>5.379897</td>\n",
       "      <td>...</td>\n",
       "      <td>0</td>\n",
       "      <td>0</td>\n",
       "      <td>0</td>\n",
       "      <td>0</td>\n",
       "      <td>1</td>\n",
       "      <td>0</td>\n",
       "      <td>0</td>\n",
       "      <td>0</td>\n",
       "      <td>0</td>\n",
       "      <td>0</td>\n",
       "    </tr>\n",
       "    <tr>\n",
       "      <th>4</th>\n",
       "      <td>4.442651</td>\n",
       "      <td>9.565284</td>\n",
       "      <td>0.693147</td>\n",
       "      <td>0.0</td>\n",
       "      <td>1.386294</td>\n",
       "      <td>1.386294</td>\n",
       "      <td>1</td>\n",
       "      <td>5.860786</td>\n",
       "      <td>6</td>\n",
       "      <td>6.486161</td>\n",
       "      <td>...</td>\n",
       "      <td>0</td>\n",
       "      <td>0</td>\n",
       "      <td>0</td>\n",
       "      <td>0</td>\n",
       "      <td>1</td>\n",
       "      <td>0</td>\n",
       "      <td>0</td>\n",
       "      <td>0</td>\n",
       "      <td>1</td>\n",
       "      <td>0</td>\n",
       "    </tr>\n",
       "  </tbody>\n",
       "</table>\n",
       "<p>5 rows × 392 columns</p>\n",
       "</div>"
      ],
      "text/plain": [
       "   LotFrontage   LotArea    Street  Alley  LotShape  LandSlope  MasVnrType  \\\n",
       "0     4.189655  9.042040  0.693147    0.0  1.609438   1.386294           1   \n",
       "1     4.394449  9.169623  0.693147    0.0  1.609438   1.386294           0   \n",
       "2     4.234107  9.328212  0.693147    0.0  1.386294   1.386294           1   \n",
       "3     4.110874  9.164401  0.693147    0.0  1.386294   1.386294           0   \n",
       "4     4.442651  9.565284  0.693147    0.0  1.386294   1.386294           1   \n",
       "\n",
       "   MasVnrArea  BsmtFinType1  BsmtFinSF1  ...  SaleType_ConLI  SaleType_ConLw  \\\n",
       "0    5.283204             6    6.561031  ...               0               0   \n",
       "1    0.000000             5    6.886532  ...               0               0   \n",
       "2    5.093750             6    6.188264  ...               0               0   \n",
       "3    0.000000             5    5.379897  ...               0               0   \n",
       "4    5.860786             6    6.486161  ...               0               0   \n",
       "\n",
       "   SaleType_New  SaleType_Oth  SaleType_WD  SaleCondition_AdjLand  \\\n",
       "0             0             0            1                      0   \n",
       "1             0             0            1                      0   \n",
       "2             0             0            1                      0   \n",
       "3             0             0            1                      0   \n",
       "4             0             0            1                      0   \n",
       "\n",
       "   SaleCondition_Alloca  SaleCondition_Family  SaleCondition_Normal  \\\n",
       "0                     0                     0                     1   \n",
       "1                     0                     0                     1   \n",
       "2                     0                     0                     1   \n",
       "3                     0                     0                     0   \n",
       "4                     0                     0                     1   \n",
       "\n",
       "   SaleCondition_Partial  \n",
       "0                      0  \n",
       "1                      0  \n",
       "2                      0  \n",
       "3                      0  \n",
       "4                      0  \n",
       "\n",
       "[5 rows x 392 columns]"
      ]
     },
     "execution_count": 59,
     "metadata": {},
     "output_type": "execute_result"
    }
   ],
   "source": [
    "# Using the get_dummies() method from pandas to obtain dummy variables.\n",
    "\n",
    "for col in columns:\n",
    "    all_data = pd.concat([all_data, pd.get_dummies(all_data[col], prefix = col, drop_first = True)], axis = 1)\n",
    "\n",
    "# Drop original columns\n",
    "\n",
    "all_data.drop(columns, inplace = True, axis = 1)\n",
    "print(all_data.shape)\n",
    "all_data.head(5)"
   ]
  },
  {
   "cell_type": "markdown",
   "metadata": {},
   "source": [
    "All the preprocessing steps have been successfully completed, now getting ready to obtain the initial split of the X_train and X_test data below."
   ]
  },
  {
   "cell_type": "code",
   "execution_count": 60,
   "metadata": {},
   "outputs": [],
   "source": [
    "X_train = all_data[:num_train]\n",
    "X_test = all_data[num_train:]"
   ]
  },
  {
   "cell_type": "markdown",
   "metadata": {},
   "source": [
    "## Feature scaling"
   ]
  },
  {
   "cell_type": "code",
   "execution_count": 61,
   "metadata": {},
   "outputs": [
    {
     "name": "stderr",
     "output_type": "stream",
     "text": [
      "/anaconda3/lib/python3.6/site-packages/pandas/core/indexing.py:543: SettingWithCopyWarning: \n",
      "A value is trying to be set on a copy of a slice from a DataFrame.\n",
      "Try using .loc[row_indexer,col_indexer] = value instead\n",
      "\n",
      "See the caveats in the documentation: http://pandas.pydata.org/pandas-docs/stable/indexing.html#indexing-view-versus-copy\n",
      "  self.obj[item] = s\n",
      "/anaconda3/lib/python3.6/site-packages/pandas/core/indexing.py:543: SettingWithCopyWarning: \n",
      "A value is trying to be set on a copy of a slice from a DataFrame.\n",
      "Try using .loc[row_indexer,col_indexer] = value instead\n",
      "\n",
      "See the caveats in the documentation: http://pandas.pydata.org/pandas-docs/stable/indexing.html#indexing-view-versus-copy\n",
      "  self.obj[item] = s\n"
     ]
    }
   ],
   "source": [
    "scaler = StandardScaler()\n",
    "X_train.loc[:, num_features] = scaler.fit_transform(X_train.loc[:, num_features])\n",
    "X_test.loc[:, num_features] = scaler.transform(X_test.loc[:, num_features])"
   ]
  },
  {
   "cell_type": "markdown",
   "metadata": {},
   "source": [
    "## Target variable: SalePrice"
   ]
  },
  {
   "cell_type": "markdown",
   "metadata": {},
   "source": [
    "#### Checking the skewness of the target variable"
   ]
  },
  {
   "cell_type": "markdown",
   "metadata": {},
   "source": [
    "The below plot shows that the distribution is right skewed or positively skewed."
   ]
  },
  {
   "cell_type": "code",
   "execution_count": 62,
   "metadata": {},
   "outputs": [
    {
     "name": "stdout",
     "output_type": "stream",
     "text": [
      "Skewness:  1.564345548419458\n"
     ]
    },
    {
     "data": {
      "image/png": "[encoded data removed]",
      "text/plain": [
       "<Figure size 432x288 with 1 Axes>"
      ]
     },
     "metadata": {},
     "output_type": "display_data"
    }
   ],
   "source": [
    "ax = sns.distplot(y_train, fit = norm)\n",
    "ax.set_title('SalePrice distribution')\n",
    "print(\"Skewness: \", skew(y_train))"
   ]
  },
  {
   "cell_type": "markdown",
   "metadata": {},
   "source": [
    "#### Obtain the QQ Plot "
   ]
  },
  {
   "cell_type": "code",
   "execution_count": 63,
   "metadata": {},
   "outputs": [
    {
     "data": {
      "image/png": "[encoded data removed]",
      "text/plain": [
       "<Figure size 432x288 with 1 Axes>"
      ]
     },
     "metadata": {},
     "output_type": "display_data"
    }
   ],
   "source": [
    "sm.qqplot(y_train, line = 's')\n",
    "plt.title('QQ Plot')\n",
    "plt.show()"
   ]
  },
  {
   "cell_type": "markdown",
   "metadata": {},
   "source": [
    "#### Fixing the skew with log transformation"
   ]
  },
  {
   "cell_type": "markdown",
   "metadata": {},
   "source": [
    "The right skew is fixed after log transformation of the target variable with numpy's log1p() function which is basically log(1+x). Log(1+x) is preferred because of the evaluation metric - it is the same as rmse with weights.\n",
    "And also logarithm of 0 is undefined, so using np.log() could screw things."
   ]
  },
  {
   "cell_type": "code",
   "execution_count": 64,
   "metadata": {},
   "outputs": [],
   "source": [
    "y_train = np.log1p(y_train)"
   ]
  },
  {
   "cell_type": "code",
   "execution_count": 65,
   "metadata": {},
   "outputs": [
    {
     "data": {
      "image/png": "[encoded data removed]",
      "text/plain": [
       "<Figure size 432x288 with 1 Axes>"
      ]
     },
     "metadata": {},
     "output_type": "display_data"
    },
    {
     "data": {
      "image/png": "[encoded data removed]",
      "text/plain": [
       "<Figure size 432x288 with 1 Axes>"
      ]
     },
     "metadata": {},
     "output_type": "display_data"
    }
   ],
   "source": [
    "# Plotting the distribution and QQ plot\n",
    "\n",
    "ax = sns.distplot(y_train, fit = norm)\n",
    "ax.set_title('SalePrice distribution')\n",
    "\n",
    "sm.qqplot(y_train, line = 's')\n",
    "plt.title('After log1p transformation')\n",
    "plt.show()"
   ]
  },
  {
   "cell_type": "markdown",
   "metadata": {},
   "source": [
    "## Model Building "
   ]
  },
  {
   "cell_type": "code",
   "execution_count": 66,
   "metadata": {},
   "outputs": [],
   "source": [
    "rmse_scorer = make_scorer(mean_squared_error, greater_is_better = False)\n",
    "\n",
    "def rmse_cv(model):\n",
    "    rmse = np.sqrt(-cross_val_score(model, X_train, y_train, scoring = rmse_scorer, cv = 10))\n",
    "    return (rmse)"
   ]
  },
  {
   "cell_type": "markdown",
   "metadata": {},
   "source": [
    "#### Ridge Regression"
   ]
  },
  {
   "cell_type": "code",
   "execution_count": 67,
   "metadata": {},
   "outputs": [
    {
     "name": "stdout",
     "output_type": "stream",
     "text": [
      "Estimated alpha value:  30.0\n",
      "Estimated alpha value (Phase 2): 18.0\n",
      "\n",
      "Mean Ridge Score: 0.11729896380980867\n",
      "Std. Deviation: 0.014773445787041557\n"
     ]
    }
   ],
   "source": [
    "ridge = RidgeCV(alphas = [0.01, 0.03, 0.06, 0.1, 0.3, 0.6, 1.0, 3, 6, 10, 30, 60])\n",
    "ridge.fit(X_train, y_train)\n",
    "\n",
    "alpha = ridge.alpha_\n",
    "print(\"Estimated alpha value: \",alpha)\n",
    "\n",
    "# Phase 2 - Ridge\n",
    "\n",
    "ridge = RidgeCV(alphas = [alpha * 0.5, alpha * 0.6, alpha * 0.7, alpha * 0.8, alpha * 0.9, alpha * 1,\n",
    "                         alpha * 1.1, alpha * 1.2, alpha * 1.3, alpha * 1.4, alpha * 1.5])\n",
    "ridge.fit(X_train, y_train)\n",
    "alpha = ridge.alpha_\n",
    "print(\"Estimated alpha value (Phase 2):\", alpha)\n",
    "print()\n",
    "score = rmse_cv(ridge)\n",
    "print(\"Mean Ridge Score:\", score.mean())\n",
    "print(\"Std. Deviation:\", score.std())"
   ]
  },
  {
   "cell_type": "markdown",
   "metadata": {},
   "source": [
    "#### Lasso Regression"
   ]
  },
  {
   "cell_type": "code",
   "execution_count": 68,
   "metadata": {},
   "outputs": [
    {
     "name": "stdout",
     "output_type": "stream",
     "text": [
      "Estimated alpha value:  0.0006\n",
      "Estimated alpha value (Phase 2): 0.00054\n",
      "\n",
      "Mean Lasso Score: 0.11618151497890772\n",
      "Std. Deviation: 0.015587898314495183\n"
     ]
    }
   ],
   "source": [
    "lasso = LassoCV(alphas = [0.0001, 0.0003, 0.0006, 0.001, 0.003, 0.006, \n",
    "                          0.01, 0.06, 0.1, 0.3, 0.6, 1], random_state = 0, cv = 10, max_iter = 50000)\n",
    "lasso.fit(X_train, y_train)\n",
    "\n",
    "alpha = lasso.alpha_\n",
    "print(\"Estimated alpha value: \", alpha)\n",
    "\n",
    "# Phase 2 - Lasso\n",
    "\n",
    "lasso = LassoCV(alphas = [alpha * 0.5, alpha * 0.6, alpha * 0.7, alpha * 0.8, alpha * 0.9, alpha * 1,\n",
    "                         alpha * 1.1, alpha * 1.2, alpha * 1.3, alpha * 1.4, alpha * 1.5], random_state = 0, \n",
    "                         max_iter = 50000, cv = 10)\n",
    "lasso.fit(X_train, y_train)\n",
    "alpha = lasso.alpha_\n",
    "print(\"Estimated alpha value (Phase 2):\", alpha)\n",
    "print()\n",
    "score = rmse_cv(lasso)\n",
    "print(\"Mean Lasso Score:\", score.mean())\n",
    "print(\"Std. Deviation:\", score.std())"
   ]
  },
  {
   "cell_type": "markdown",
   "metadata": {},
   "source": [
    "#### ElasticNet Regression"
   ]
  },
  {
   "cell_type": "code",
   "execution_count": 70,
   "metadata": {},
   "outputs": [
    {
     "name": "stdout",
     "output_type": "stream",
     "text": [
      "Best l1 ratio: 0.15\n",
      "Best alpha: 0.003\n",
      "Best l1 ratio (Phase 2): 0.15\n",
      "Best alpha (Phase 2): 0.0027\n",
      "\n",
      "Mean ElasticNet score: 0.11596284844918181\n",
      "Std. Deviation: 0.015316092121655467\n"
     ]
    }
   ],
   "source": [
    "enet = ElasticNetCV(l1_ratio = [0.1, 0.15, 0.3, 0.55, 0.7, 0.95, 1],\n",
    "                         alphas = [0.0001, 0.0003, 0.0006, 0.001, 0.003, \n",
    "                                   0.006, 0.1, 0.3, 0.6, 0.9, 1, 3, 6, 12],\n",
    "                   max_iter = 50000, cv = 10)\n",
    "enet.fit(X_train, y_train)\n",
    "ratio = enet.l1_ratio_\n",
    "alpha = enet.alpha_\n",
    "print(\"Best l1 ratio:\", ratio)\n",
    "print(\"Best alpha:\", alpha)\n",
    "\n",
    "# Phase 2 - ElasticNet\n",
    "\n",
    "enet = ElasticNetCV(l1_ratio = ratio,\n",
    "                   alphas = [alpha * 0.5, alpha * 0.6, alpha * 0.7, alpha * 0.8, alpha * 0.9, alpha * 1,\n",
    "                         alpha * 1.1, alpha * 1.2, alpha * 1.3, alpha * 1.4, alpha * 1.5], random_state = 0, \n",
    "                         max_iter = 50000, cv = 10)\n",
    "enet.fit(X_train, y_train)\n",
    "ratio = enet.l1_ratio_\n",
    "alpha = enet.alpha_\n",
    "print(\"Best l1 ratio (Phase 2):\", ratio)\n",
    "print(\"Best alpha (Phase 2):\", alpha)\n",
    "print()\n",
    "score = rmse_cv(enet)\n",
    "print(\"Mean ElasticNet score:\", score.mean())\n",
    "print(\"Std. Deviation:\", score.std())"
   ]
  },
  {
   "cell_type": "code",
   "execution_count": null,
   "metadata": {},
   "outputs": [],
   "source": [
    "y_pred = np.expm1(enet.predict(X_test))\n",
    "y_pred "
   ]
  },
  {
   "cell_type": "code",
   "execution_count": null,
   "metadata": {},
   "outputs": [],
   "source": [
    "# Creating the submissions .csv file\n",
    "\n",
    "submissions = pd.DataFrame({\n",
    "    \n",
    "    'Id': ids,\n",
    "    'SalePrice': y_pred\n",
    "})\n",
    "\n",
    "submissions.to_csv('submission3.csv', index = False)"
   ]
  }
 ],
 "metadata": {
  "kernelspec": {
   "display_name": "Python 3",
   "language": "python",
   "name": "python3"
  },
  "language_info": {
   "codemirror_mode": {
    "name": "ipython",
    "version": 3
   },
   "file_extension": ".py",
   "mimetype": "text/x-python",
   "name": "python",
   "nbconvert_exporter": "python",
   "pygments_lexer": "ipython3",
   "version": "3.6.8"
  }
 },
 "nbformat": 4,
 "nbformat_minor": 2
}
